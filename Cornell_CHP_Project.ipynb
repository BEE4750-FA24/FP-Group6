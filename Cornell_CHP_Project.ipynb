{
 "cells": [
  {
   "cell_type": "markdown",
   "id": "f7c58629",
   "metadata": {},
   "source": [
    "# Economic Dispatch"
   ]
  },
  {
   "cell_type": "code",
   "execution_count": 1,
   "id": "2",
   "metadata": {},
   "outputs": [
    {
     "name": "stderr",
     "output_type": "stream",
     "text": [
      "\u001b[32m\u001b[1m  Activating\u001b[22m\u001b[39m project at `c:\\Users\\fenya\\Documents\\BEE4750\\Project\\FP-Group6`\n"
     ]
    }
   ],
   "source": [
    "import Pkg\n",
    "Pkg.activate(@__DIR__)\n",
    "Pkg.instantiate()"
   ]
  },
  {
   "cell_type": "code",
   "execution_count": null,
   "id": "ede3984a",
   "metadata": {},
   "outputs": [
    {
     "ename": "",
     "evalue": "",
     "output_type": "error",
     "traceback": [
      "\u001b[1;31mFailed to start the Kernel. \n",
      "\u001b[1;31mUnable to start Kernel 'Julia 1.10.4' due to a timeout waiting for the ports to get used. \n",
      "\u001b[1;31mView Jupyter <a href='command:jupyter.viewOutput'>log</a> for further details."
     ]
    }
   ],
   "source": [
    "Pkg.add(\"Plots\")"
   ]
  },
  {
   "cell_type": "code",
   "execution_count": null,
   "id": "fcf58419",
   "metadata": {},
   "outputs": [],
   "source": [
    "Pkg.add(\"CSV\")\n",
    "Pkg.add(\"MarkdownTables\")\n",
    "Pkg.add(\"Dates\")"
   ]
  },
  {
   "cell_type": "code",
   "execution_count": null,
   "id": "4",
   "metadata": {},
   "outputs": [],
   "source": [
    "using JuMP\n",
    "using HiGHS\n",
    "using DataFrames\n",
    "using Plots\n",
    "using Measures\n",
    "using CSV\n",
    "using MarkdownTables\n",
    "# using NamedArrays\n",
    "using Dates"
   ]
  },
  {
   "cell_type": "code",
   "execution_count": null,
   "id": "cell-fig-demand",
   "metadata": {},
   "outputs": [],
   "source": [
    "# load the data, pull Zone C, and reformat the DataFrame\n",
    "CU_edemand = DataFrame(CSV.File(\"data/Cornell_Electricity_Data.csv\"))\n",
    "rename!(CU_edemand, :\"slottime_GMT\" => :Date)\n",
    "edemand = CU_edemand[:, [:Date, :slotavg]]\n",
    "rename!(edemand, :slotavg => :edemand)\n",
    "# demand[:, :Hour] = 1:nrow(demand)\n",
    "\n",
    "# plot demand\n",
    "plot(edemand.Date, edemand.edemand, xlabel=\"Day of Year\", ylabel=\"Demand (MWh)\", label=:false)"
   ]
  },
  {
   "cell_type": "code",
   "execution_count": null,
   "id": "98fc00ef",
   "metadata": {},
   "outputs": [],
   "source": [
    "# load steam data for heat demand\n",
    "CU_hdemand = DataFrame(CSV.File(\"data/Cornell_steam_data.csv\"))\n",
    "rename!(CU_hdemand, :\"slottime_GMT\" => :Date)\n",
    "hdemand = CU_hdemand[:, [:Date, :slotavg]]\n",
    "rename!(hdemand, :slotavg => :hdemand)\n",
    "\n",
    "# Converting to units of MMBTU of heat produced (before distribution losses)\n",
    "hdemand.hdemand = hdemand.hdemand*0.001194\n",
    "# demand[:, :Hour] = 1:nrow(demand)\n",
    "\n",
    "# plot demand\n",
    "plot(hdemand.Date, hdemand.hdemand, title=\"load steam data for heat demand\", xlabel=\"Day of Year\", ylabel=\"Total heat as steam delivered (MMBTU/hour)\", label=:false)"
   ]
  },
  {
   "cell_type": "code",
   "execution_count": null,
   "id": "2be2db0e-b9d6-4c46-b0cd-72a7b94257d3",
   "metadata": {},
   "outputs": [],
   "source": [
    "# Information about different generation and heating sources\n",
    "# gens is electricity - natural gas is CHP \n",
    "# -- heat pumps run on electricity and produce heat\n",
    "gens = DataFrame(CSV.File(\"data/Gen_data_CU.csv\"))\n",
    "\n",
    "# heat is heat\n",
    "heat = DataFrame(CSV.File(\"data/Heat_data_CU.csv\"))"
   ]
  },
  {
   "cell_type": "code",
   "execution_count": null,
   "id": "57cbfb4a",
   "metadata": {},
   "outputs": [],
   "source": [
    "gens"
   ]
  },
  {
   "cell_type": "code",
   "execution_count": null,
   "id": "2ac0007f",
   "metadata": {},
   "outputs": [],
   "source": [
    "# Electricity production conversion (MWh/MMBtu), assumed constant\n",
    "# Natural gas - electricity produced per heat\n",
    "# Heat Pumps - electricity required per heat\n",
    "heat.Conversion_Factor"
   ]
  },
  {
   "cell_type": "markdown",
   "id": "3393bcbd-c9db-49c8-8df2-4fbd18e2ef7a",
   "metadata": {},
   "source": [
    "Finally, we load the hourly solar and wind capacity factors, which are\n",
    "plotted in <a href=\"#fig-cf\" class=\"quarto-xref\">Figure 2</a>. These\n",
    "tell us the fraction of installed capacity which is expected to be\n",
    "available in a given hour for generation (typically based on the average\n",
    "meteorology)."
   ]
  },
  {
   "cell_type": "code",
   "execution_count": null,
   "id": "60ddd4f2",
   "metadata": {},
   "outputs": [],
   "source": [
    "[Dates.DateTime(edemand.Date[i], dateformat\"yyyy-mm-dd HH:MM:SS\") for i in 1:length(edemand.Date)]"
   ]
  },
  {
   "cell_type": "code",
   "execution_count": null,
   "id": "74cfcc8a",
   "metadata": {},
   "outputs": [],
   "source": [
    "transform(edemand, :Date => (ByRow(t -> Dates.DateTime(t, dateformat\"yyyy-mm-dd HH:MM:SS\"))) => :Date)"
   ]
  },
  {
   "cell_type": "code",
   "execution_count": null,
   "id": "402cb6be-4e9b-47ff-94d8-7bcf34db5e1f",
   "metadata": {
    "layout-nrow": 2
   },
   "outputs": [],
   "source": [
    "cap_factor = DataFrame(CSV.File(\"data/2022_solar_CF_zone_C.csv\", header=4))\n",
    "cap_factor=  cap_factor[:, [:time, :electricity]]\n",
    "rename!(cap_factor, :electricity => :Solar)\n",
    "\n",
    "# plot January capacity factors\n",
    "# p1 = plot(cap_factor.Wind[1:(24*31)], label=\"Wind\")\n",
    "p1 = plot(cap_factor.Solar[1:(24*31)], label=\"Solar\")\n",
    "xaxis!(\"Hour of the Month\")\n",
    "yaxis!(\"Capacity Factor\")\n",
    "\n",
    "# p2 = plot(cap_factor.Wind[4344:4344+(24*31)], label=\"Wind\")\n",
    "p2 = plot(cap_factor.Solar[4344:4344+(24*31)], label=\"Solar\")\n",
    "xaxis!(\"Hour of the Month\")\n",
    "yaxis!(\"Capacity Factor\")\n",
    "\n",
    "display(p1)\n",
    "display(p2)"
   ]
  },
  {
   "cell_type": "markdown",
   "id": "15d25198",
   "metadata": {},
   "source": [
    "## Drop missing data"
   ]
  },
  {
   "cell_type": "code",
   "execution_count": null,
   "id": "ba0695df",
   "metadata": {},
   "outputs": [],
   "source": [
    "e_missing_dates = setdiff(DateTime(2022, 1, 1, 0):Hour(1):DateTime(2022, 12, 31, 23),[Dates.DateTime(edemand.Date[i], dateformat\"yyyy-mm-dd HH:MM:SS\") for i in 1:length(edemand.Date)])\n",
    "h_missing_dates = setdiff(DateTime(2022, 1, 1, 0):Hour(1):DateTime(2022, 12, 31, 23),[Dates.DateTime(hdemand.Date[i], dateformat\"yyyy-mm-dd HH:MM:SS\") for i in 1:length(hdemand.Date)])\n",
    "cap_factor = DataFrame(CSV.File(\"data/2022_solar_CF_zone_C.csv\", header=4))\n",
    "cap_factor=  cap_factor[:, [:time, :electricity]]\n",
    "rename!(cap_factor, :electricity => :Solar)\n",
    "missing_dates = [h_missing_dates; e_missing_dates]\n",
    "e_dts = [Dates.DateTime(edemand.Date[i], dateformat\"yyyy-mm-dd HH:MM:SS\") for i in 1:length(edemand.Date)]\n",
    "h_dts = [Dates.DateTime(hdemand.Date[i], dateformat\"yyyy-mm-dd HH:MM:SS\") for i in 1:length(hdemand.Date)]\n",
    "cf_dts = [Dates.DateTime(cap_factor.time[i], dateformat\"mm/dd/yyyy HH:MM\") for i in 1:length(cap_factor.time)]\n",
    "cap_factor = cap_factor[[cf_dts[i] ∉ missing_dates for i in 1:length(cap_factor.time)],:]\n",
    "edemand = edemand[[e_dts[i] ∉ missing_dates for i in 1:length(edemand.Date)],:]\n",
    "hdemand = hdemand[[h_dts[i] ∉ missing_dates for i in 1:length(hdemand.Date)],:]"
   ]
  },
  {
   "cell_type": "markdown",
   "id": "0e8d1809",
   "metadata": {},
   "source": [
    "## Solutions"
   ]
  },
  {
   "cell_type": "markdown",
   "id": "b70b01a3",
   "metadata": {},
   "source": [
    "Base case capacity expansion (no heating)\n",
    "\n",
    "Decision variables:\n",
    "$x_{g}$ = Installed capacity for generator type g (MW)\n",
    "\n",
    "$y_{g,t}$ = Production from generator g in time t (MWh)\n",
    "\n",
    "$NSE_{t}$ = non-served energy in time t (MWh)\n",
    "\n",
    "Minimize total cost = fixed cost + variable cost + unserved energy cost\n",
    "\\begin{align}\n",
    "\\min_{x, y, NSE} \\quad & \\sum_{g \\in \\mathcal{G}} \\text{FixedCost}_g \\times x_g + \\sum_{t \\in \\mathcal{T}} \\sum_{g \\in \\mathcal{G}} \\text{VarCost}_g \\times y_{g,t} & \\\\\n",
    "& \\quad + \\sum_{t \\in \\mathcal{T}} \\text{NSECost} \\times NSE_t & \\\\[0.5em]\n",
    "\\text {subject to:} \\quad & \\sum_{g \\in \\mathcal{G}} y_{g,t} + NSE_t \\geq d_t \\qquad \\forall t \\in \\mathcal{T} \\\\[0.5em]\n",
    "\\text{(Meeting demand in each hour)} \\\\\n",
    "& y_{g,t} \\leq x_g*c_{g,t} \\qquad \\qquad \\qquad\\qquad  \\forall g \\in {G},  \\forall t \\in \\mathcal{T} \\\\[0.5em]\n",
    "\\text{(Generator capacity limits)} \\\\\n",
    "& x_g, y_{g,t}, NSE_t \\geq 0 \\qquad \\qquad \\forall g \\in {G},  \\forall t \\in \\mathcal{T}\n",
    "\\end{align}"
   ]
  },
  {
   "cell_type": "markdown",
   "id": "60b9c23c",
   "metadata": {},
   "source": [
    "Economic Dispatch with CHP\n",
    "\n",
    "Decision variables:\n",
    "\n",
    "$y_{g,t}$ = Production from generator g in time t (MWh)\n",
    "\n",
    "$z_{s,t}$ = Heat production from source s in time t (MWh)\n",
    "\n",
    "$NSE_{t}$ = non-served energy in time t (MWh)\n",
    "\n",
    "Parameters:\n",
    "\n",
    "r = Conversion factor for CHP, MWh produced per MMBTU produced\n",
    "\n",
    "$c_{hp,t}$ = Conversion factor for heat pump, MWh required per MMBTU produced\n",
    "\n",
    "\n",
    "Minimize total cost = fixed cost + variable cost + unserved energy cost\n",
    "\\begin{align}\n",
    "\\sum_{t \\in \\mathcal{T}} \\sum_{g \\in \\mathcal{G}} \\text{VarCost}_g \\times y_{g,t} \\quad + \\sum_{t \\in \\mathcal{T}} \\text{NSECost} \\times NSE_t & \\\\[0.5em]\n",
    "\\text {subject to:} \\quad & \\sum_{g \\in \\mathcal{G}} y_{g,t} + NSE_t \\geq d_t + c_{hp,t}* z_{hp,t} \\qquad \\forall t \\in \\mathcal{T} \\\\[0.5em]\n",
    "\\text{(Meeting demand in each hour)} \\\\\n",
    "\\quad & \\sum_{s \\in \\mathcal{S}} h_{s,t} \\geq zd_t \\qquad \\forall t \\in \\mathcal{T} \\\\[0.5em]\n",
    "\\text{(Meeting heating demand in each hour)} \\\\\n",
    "\\quad & z_{n,t} = r*y_{n,t} \\qquad \\forall t \\in \\mathcal{T} \\\\[0.5em]\n",
    "\\text{(Assume constant ratio of heat to electricty production from natural gas)} \\\\\n",
    "& y_{g,t} \\leq x_g*c_{g,t} \\qquad \\qquad \\qquad\\qquad  \\forall g \\in {G},  \\forall t \\in \\mathcal{T} \\\\[0.5em]\n",
    "\\text{(Generator capacity limits)} \\\\\n",
    "& x_g, y_{g,t}, NSE_t \\geq 0 \\qquad \\qquad \\forall g \\in {G},  \\forall t \\in \\mathcal{T}\n",
    "\\end{align}"
   ]
  },
  {
   "cell_type": "code",
   "execution_count": null,
   "id": "1c86ad96",
   "metadata": {},
   "outputs": [],
   "source": [
    "# capacity factor for gas will be 1 --> this sets the capacity factor as 1 for every day of the year\n",
    "cap_factor[:, :Gas] .=1\n",
    "\n",
    "# cap_factor[:, :Geothermal] .=0.8\n",
    "# cap_factor[:, :NG_CCGT] .=1\n",
    "# cap_factor[:, :NG_CT] .=1\n",
    "\n",
    "# all capacity factors together into one data frame\n",
    "select!(cap_factor, :Gas, :Solar)"
   ]
  },
  {
   "cell_type": "code",
   "execution_count": null,
   "id": "ffb65936",
   "metadata": {},
   "outputs": [],
   "source": [
    "# No heat, Just electricity no heatpumps\n",
    "# define sets\n",
    "G = 1:nrow(gens)\n",
    "T = 1:nrow(edemand)\n",
    "NSECost = 10000\n",
    "\n",
    "gencap = Model(HiGHS.Optimizer)\n",
    "# define variables\n",
    "@variables(gencap, begin\n",
    "    y[g in G, t in T] >= 0\n",
    "    NSE[t in T] >= 0\n",
    "end)"
   ]
  },
  {
   "cell_type": "code",
   "execution_count": null,
   "id": "aec8650e",
   "metadata": {},
   "outputs": [],
   "source": [
    "# Optimizing cost (cost is constant over time per mwh) of just electricity\n",
    "\n",
    "# define sets\n",
    "G = 1:nrow(gens)\n",
    "T = 1:nrow(edemand)\n",
    "NSECost = 10000\n",
    "\n",
    "gencap = Model(HiGHS.Optimizer)\n",
    "# define variables\n",
    "@variables(gencap, begin\n",
    "    y[g in G, t in T] >= 0\n",
    "    NSE[t in T] >= 0\n",
    "end)\n",
    "\n",
    "@objective(gencap, Min, \n",
    "   sum(gens[G, :VarCost] .* sum(y[:, t] for t in T)) + NSECost * sum(NSE)\n",
    ")\n",
    "\n",
    "@constraint(gencap, load[t in T], sum(y[:, t]) + NSE[t] >= edemand.edemand[t])\n",
    "\n",
    "@constraint(gencap, availability[g in G, t in T], y[g, t] <= gens[g, :Capacity]*cap_factor[t,g])\n",
    "optimize!(gencap)\n",
    "\n"
   ]
  },
  {
   "cell_type": "code",
   "execution_count": null,
   "id": "23ec7182",
   "metadata": {},
   "outputs": [],
   "source": [
    "@show objective_value(gencap)"
   ]
  },
  {
   "cell_type": "markdown",
   "id": "93a0623b",
   "metadata": {},
   "source": [
    "Objective value wihtout heat is $4476878"
   ]
  },
  {
   "cell_type": "code",
   "execution_count": null,
   "id": "6f7d7212",
   "metadata": {},
   "outputs": [],
   "source": [
    "# Plotting natural gas and solar generation at the optimized cost\n",
    "# This is just optimizing to meet electricity demand\n",
    "\n",
    "gen = value.(y).data \n",
    "p = areaplot(gen'[1:200,:], \n",
    "    label=permutedims(gens[:, :Column1]), \n",
    "    xlabel = \"Hour\", \n",
    "    ylabel =\"Generated Electricity (MW)\", \n",
    "    color_palette=:mk_15,\n",
    "    grid=:false,\n",
    "    # ylim=(0, 100),\n",
    ")\n",
    "plot!(legend=:topleft, title = \"Electricity Generation - Optimized (no HP)\", legendcolumns=1, leftmargin=5mm, bottommargin=3mm)\n",
    "plot!(p, size=(900, 450))"
   ]
  },
  {
   "cell_type": "markdown",
   "id": "7a32c457",
   "metadata": {},
   "source": [
    "## Natural Gas, No Heat Pumps\n",
    "\n",
    "#### Electricity and heat demand as is (with no heat pumps)"
   ]
  },
  {
   "cell_type": "code",
   "execution_count": null,
   "id": "047b80f5",
   "metadata": {},
   "outputs": [],
   "source": [
    "# Optimizing cost of production for electricity and heat - no heat pumps\n",
    "# define sets\n",
    "G = 1:nrow(gens)\n",
    "H = 1:1\n",
    "T = 1:nrow(edemand)\n",
    "NSECost = 10000\n",
    "NSHCost = 5000\n",
    "\n",
    "gencap = Model(HiGHS.Optimizer)\n",
    "# define variables\n",
    "@variables(gencap, begin\n",
    "    y[g in G, t in T] >= 0\n",
    "    z[h in H, t in T] >= 0\n",
    "    NSE[t in T] >= 0\n",
    "    NSH[t in T] >= 0\n",
    "end)\n",
    "\n",
    "@objective(gencap, Min, \n",
    "   sum(gens[G, :VarCost] .* sum(y[:, t] for t in T)) + NSECost * sum(NSE) + NSHCost * sum(NSH)\n",
    ")\n",
    "\n",
    "# @constraint(gencap, load[t in T], sum(y[:, t]) + NSE[t] >= edemand.edemand[t])\n",
    "@constraint(gencap, load[t in T], sum(y[:, t]) + NSE[t] >= edemand.edemand[t])\n",
    "@constraint(gencap, heating[t in T], sum(z[:, t]) + NSH[t] >= hdemand.hdemand[t])\n",
    "@constraint(gencap, chp[t in T], y[1, t] >= heat[1, :Conversion_Factor]*z[1, t] )\n",
    "\n",
    "@constraint(gencap, availability[g in G, t in T], y[g, t] <= gens[g, :Capacity]*cap_factor[t,g])\n",
    "optimize!(gencap)"
   ]
  },
  {
   "cell_type": "code",
   "execution_count": null,
   "id": "6620717f",
   "metadata": {},
   "outputs": [],
   "source": [
    "@show objective_value(gencap)"
   ]
  },
  {
   "cell_type": "code",
   "execution_count": null,
   "id": "d2843e18",
   "metadata": {},
   "outputs": [],
   "source": [
    "gens"
   ]
  },
  {
   "cell_type": "code",
   "execution_count": null,
   "id": "88fe07a4",
   "metadata": {},
   "outputs": [],
   "source": [
    "sum(value.(NSH).data)"
   ]
  },
  {
   "cell_type": "code",
   "execution_count": null,
   "id": "33ce410e",
   "metadata": {},
   "outputs": [],
   "source": [
    "sum(value.(NSH).data)/sum(value.(y).data)"
   ]
  },
  {
   "cell_type": "code",
   "execution_count": null,
   "id": "cc11106b",
   "metadata": {},
   "outputs": [],
   "source": [
    "# THis is the plot of electricity generation with heat pumps so demand is higher\n",
    "# constraint to meet both electricity and heat demand\n",
    "\n",
    "# remake for more hours\n",
    "nsh = value.(NSH).data \n",
    "p = areaplot(nsh[1:200,:], \n",
    "    # label=permutedims(gens[:, :Column1]), \n",
    "    xlabel = \"Hour\", \n",
    "    # ylabel =\"Generated Electricity (MW)\", \n",
    "    color_palette=:mk_15,\n",
    "    grid=:false,\n",
    "    # ylim=(0, 100),\n",
    ")\n",
    "plot!(legend=:topleft, legendcolumns=1, title=\"Electricity Generation (no HP)\", topmargin=5mm, leftmargin=5mm, bottommargin=5mm)\n",
    "plot!(p, size=(850, 450))"
   ]
  },
  {
   "cell_type": "code",
   "execution_count": null,
   "id": "a8952ca6",
   "metadata": {},
   "outputs": [],
   "source": [
    "# THis is the plot of electricity generation with heat pumps so demand is higher\n",
    "# constraint to meet both electricity and heat demand\n",
    "\n",
    "# remake for more hours\n",
    "gen = value.(y).data \n",
    "p = areaplot(gen'[1:200,:], \n",
    "    label=permutedims(gens[:, :Column1]), \n",
    "    xlabel = \"Hour\", \n",
    "    ylabel =\"Generated Electricity (MW)\", \n",
    "    color_palette=:mk_15,\n",
    "    grid=:false,\n",
    "    # ylim=(0, 100),\n",
    ")\n",
    "plot!(legend=:topleft, legendcolumns=1, title=\"Electricity Generation (no HP)\", topmargin=5mm, leftmargin=5mm, bottommargin=5mm)\n",
    "plot!(p, size=(850, 450))"
   ]
  },
  {
   "cell_type": "markdown",
   "id": "f0d12083",
   "metadata": {},
   "source": [
    "## Natural Gas, Solar, & Heat Pumps\n",
    "\n",
    "### Looking at Electricity & Heat"
   ]
  },
  {
   "cell_type": "code",
   "execution_count": null,
   "id": "17f230fb",
   "metadata": {},
   "outputs": [],
   "source": [
    "# define sets\n",
    "G = 1:nrow(gens)\n",
    "H = 1:nrow(heat)\n",
    "T = 1:nrow(edemand)\n",
    "NSECost = 10000\n",
    "NSHCost = 5000\n",
    "\n",
    "gencap = Model(HiGHS.Optimizer)\n",
    "# define variables\n",
    "@variables(gencap, begin\n",
    "    y[g in G, t in T] >= 0\n",
    "    z[h in H, t in T] >= 0\n",
    "    NSE[t in T] >= 0\n",
    "    NSH[t in T] >= 0\n",
    "end)\n",
    "\n",
    "@objective(gencap, Min, \n",
    "   sum(gens[G, :VarCost] .* sum(y[:, t] for t in T)) + NSECost * sum(NSE) + NSHCost * sum(NSH)\n",
    ")\n",
    "\n",
    "# @constraint(gencap, load[t in T], sum(y[:, t]) + NSE[t] >= edemand.edemand[t])\n",
    "@constraint(gencap, load[t in T], sum(y[:, t]) + NSE[t] >= edemand.edemand[t]+ heat[2, :Conversion_Factor]*z[2, t])\n",
    "@constraint(gencap, heating[t in T], sum(z[:, t]) + NSH[t] >= hdemand.hdemand[t])\n",
    "@constraint(gencap, chp[t in T], y[1, t] >= heat[1, :Conversion_Factor]*z[1, t] )\n",
    "\n",
    "@constraint(gencap, availability[g in G, t in T], y[g, t] <= gens[g, :Capacity]*cap_factor[t,g])\n",
    "optimize!(gencap)"
   ]
  },
  {
   "cell_type": "code",
   "execution_count": null,
   "id": "b8207de1",
   "metadata": {},
   "outputs": [],
   "source": [
    "@show objective_value(gencap)"
   ]
  },
  {
   "cell_type": "code",
   "execution_count": null,
   "id": "e93679e6",
   "metadata": {},
   "outputs": [],
   "source": [
    "heat_prod = @show value.(z)"
   ]
  },
  {
   "cell_type": "code",
   "execution_count": null,
   "id": "f8e0bd85",
   "metadata": {},
   "outputs": [],
   "source": [
    "elec_prod = @show value.(y)"
   ]
  },
  {
   "cell_type": "markdown",
   "id": "0c56940e",
   "metadata": {},
   "source": [
    "## Natural Gas + Heat Pumps"
   ]
  },
  {
   "cell_type": "code",
   "execution_count": null,
   "id": "837c9bde",
   "metadata": {},
   "outputs": [],
   "source": [
    "# THis is the plot of electricity generation with heat pumps so demand is higher\n",
    "# remake for more hours\n",
    "gen = value.(y).data \n",
    "p = areaplot(gen'[1:200,:], \n",
    "    label=permutedims(gens[:, :Column1]), \n",
    "    xlabel = \"Hour\", \n",
    "    ylabel =\"Generated Electricity (MW)\", \n",
    "    color_palette=:mk_15,\n",
    "    grid=:false,\n",
    "    # ylim=(0, 100),\n",
    ")\n",
    "plot!(legend=:topleft, legendcolumns=1, title=\"Electricity Generation with HP\", topmargin=5mm, leftmargin=5mm, bottommargin=5mm)\n",
    "plot!(p, size=(850, 450))"
   ]
  },
  {
   "cell_type": "code",
   "execution_count": null,
   "id": "28bf8338",
   "metadata": {},
   "outputs": [],
   "source": [
    "# Optimized cost with meeting electricity and heat demand\n",
    "# remake for more hours\n",
    "heat_data = value.(z).data \n",
    "p = areaplot(heat_data'[1:200,:], \n",
    "    label=permutedims(heat[:, :Column1]), \n",
    "    xlabel = \"Hour\", \n",
    "    ylabel =\"Heat (MW)\", \n",
    "    color_palette=:mk_15,\n",
    "    grid=:false,\n",
    "    # ylim=(0, 100),\n",
    ")\n",
    "plot!(legend=:topleft, legendcolumns=1, title=\"Heat Power\", topmargin=5mm, leftmargin=5mm, bottommargin=5mm)\n",
    "plot!(p, size=(850, 450))"
   ]
  },
  {
   "cell_type": "code",
   "execution_count": null,
   "id": "20d87de7",
   "metadata": {},
   "outputs": [],
   "source": [
    "@show value(sum(NSE));"
   ]
  },
  {
   "cell_type": "code",
   "execution_count": null,
   "id": "b21401de",
   "metadata": {},
   "outputs": [],
   "source": [
    "chp_price = @show shadow_price.(chp)"
   ]
  },
  {
   "cell_type": "code",
   "execution_count": null,
   "id": "5bc4d0c3",
   "metadata": {},
   "outputs": [],
   "source": [
    "sum(chp_price)"
   ]
  },
  {
   "cell_type": "code",
   "execution_count": null,
   "id": "4cbfb338",
   "metadata": {},
   "outputs": [],
   "source": [
    "elec_price = @show shadow_price.(chp)"
   ]
  },
  {
   "cell_type": "code",
   "execution_count": null,
   "id": "6d7edde1",
   "metadata": {},
   "outputs": [],
   "source": []
  }
 ],
 "metadata": {
  "kernel_info": {
   "name": "julia"
  },
  "kernelspec": {
   "display_name": "Julia 1.10.4",
   "language": "julia",
   "name": "julia-1.10"
  },
  "language_info": {
   "file_extension": ".jl",
   "mimetype": "application/julia",
   "name": "julia",
   "version": "1.10.4"
  }
 },
 "nbformat": 4,
 "nbformat_minor": 5
}
